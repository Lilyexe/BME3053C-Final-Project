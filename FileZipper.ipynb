{
  "nbformat": 4,
  "nbformat_minor": 0,
  "metadata": {
    "colab": {
      "provenance": [],
      "authorship_tag": "ABX9TyOj+n1ocMtVbO6absJE5ZPg",
      "include_colab_link": true
    },
    "kernelspec": {
      "name": "python3",
      "display_name": "Python 3"
    },
    "language_info": {
      "name": "python"
    }
  },
  "cells": [
    {
      "cell_type": "markdown",
      "metadata": {
        "id": "view-in-github",
        "colab_type": "text"
      },
      "source": [
        "<a href=\"https://colab.research.google.com/github/Lilyexe/BME3053C-Final-Project/blob/main/FileZipper.ipynb\" target=\"_parent\"><img src=\"https://colab.research.google.com/assets/colab-badge.svg\" alt=\"Open In Colab\"/></a>"
      ]
    },
    {
      "cell_type": "code",
      "execution_count": 8,
      "metadata": {
        "colab": {
          "base_uri": "https://localhost:8080/"
        },
        "id": "WFQQqtmhg10s",
        "outputId": "00c67736-8baa-449e-84a7-d24a7054d0d6"
      },
      "outputs": [
        {
          "output_type": "stream",
          "name": "stdout",
          "text": [
            "Drive already mounted at /content/drive; to attempt to forcibly remount, call drive.mount(\"/content/drive\", force_remount=True).\n"
          ]
        }
      ],
      "source": [
        "from google.colab import drive\n",
        "drive.mount('/content/drive')\n",
        "\n",
        "import os\n",
        "import zipfile\n",
        "\n",
        "directory = \"/content/drive/MyDrive/BME3053c_Final/BME3053c_Final_Dataset\"\n",
        "\n",
        "# Use os.listdir to get the list of files in the directory\n",
        "files_to_zip = [f for f in os.listdir(directory) if os.path.isfile(os.path.join(directory, f))]\n",
        "\n",
        "# Create a zip file\n",
        "with zipfile.ZipFile('Group12_Data.zip', 'w') as zipf:\n",
        "    for file in files_to_zip:\n",
        "        zipf.write(os.path.join(directory, file), arcname=file)\n",
        "\n",
        "# Move the zip file to the desired location (optional)\n",
        "!mv Group12_Data.zip \"$directory\" # Assuming you want the zip in the same directory"
      ]
    }
  ]
}